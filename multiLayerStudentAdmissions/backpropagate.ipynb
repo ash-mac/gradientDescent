{
 "cells": [
  {
   "cell_type": "code",
   "execution_count": 17,
   "metadata": {},
   "outputs": [
    {
     "name": "stdout",
     "output_type": "stream",
     "text": [
      "          gre       gpa  rank_1  rank_2  rank_3  rank_4\n",
      "106  0.972155  0.446965       1       0       0       0\n",
      "9    0.972155  1.392922       0       1       0       0\n",
      "61  -0.239793 -0.183673       0       0       0       1\n",
      "224  1.837832 -1.287291       0       1       0       0\n",
      "37  -0.586063 -1.287291       0       0       1       0\n",
      "106    1\n",
      "9      0\n",
      "61     0\n",
      "224    0\n",
      "37     0\n",
      "Name: admit, dtype: int64\n"
     ]
    }
   ],
   "source": [
    "import numpy as np\n",
    "from data_prep import features, targets, features_test, targets_test\n",
    "print(features.head())\n",
    "print(targets.head())"
   ]
  },
  {
   "cell_type": "code",
   "execution_count": 45,
   "metadata": {},
   "outputs": [
    {
     "name": "stdout",
     "output_type": "stream",
     "text": [
      "Train loss:  0.25135749549201203\n",
      "Train loss:  0.24998620190295212\n",
      "Train loss:  0.24865895294057766\n",
      "Train loss:  0.24737473665357526\n",
      "Train loss:  0.24613253345212718\n",
      "Train loss:  0.2449313191236351\n",
      "Train loss:  0.24377006764755016\n",
      "Train loss:  0.24264775381037762\n",
      "Train loss:  0.24156335562330844\n",
      "Train loss:  0.24051585654619684\n",
      "Prediction accuracy: 0.725\n"
     ]
    }
   ],
   "source": [
    "np.random.seed(21)\n",
    "\n",
    "def sigmoid(x):\n",
    "    \"\"\"\n",
    "    Calculate sigmoid\n",
    "    \"\"\"\n",
    "    return 1 / (1 + np.exp(-x))\n",
    "\n",
    "\n",
    "# Hyperparameters\n",
    "n_hidden = 2  # number of hidden units\n",
    "epochs = 900\n",
    "learnrate = 0.005\n",
    "\n",
    "n_records, n_features = features.shape\n",
    "last_loss = None\n",
    "# Initialize weights\n",
    "weights_input_hidden = np.random.normal(scale=1 / n_features ** .5,\n",
    "                                        size=(n_features, n_hidden))\n",
    "weights_hidden_output = np.random.normal(scale=1 / n_features ** .5,\n",
    "                                         size=n_hidden)\n",
    "\n",
    "for e in range(epochs):\n",
    "    del_w_input_hidden = np.zeros(weights_input_hidden.shape)\n",
    "    del_w_hidden_output = np.zeros(weights_hidden_output.shape)\n",
    "    for x, y in zip(features.values, targets):\n",
    "        ## Forward pass ##\n",
    "        # TODO: Calculate the output\n",
    "        #print(weights_hidden_output.shape)\n",
    "        hidden_input = np.matmul(x[None,:],weights_input_hidden)\n",
    "        #print('hidden layer input = ',hidden_input)\n",
    "        hidden_output = sigmoid(hidden_input)\n",
    "        #print('hidden layer output = ',hidden_output)\n",
    "        ##print(weights_hidden_output.shape)\n",
    "        output = sigmoid(np.matmul(hidden_output,weights_hidden_output[:,None]))\n",
    "        #print('output = ',output)\n",
    "        ## Backward pass ##\n",
    "        # TODO: Calculate the network's prediction error\n",
    "        error = y - output\n",
    "        #print('error = ',error)\n",
    "        # TODO: Calculate error term for the output unit\n",
    "        output_error_term = error * (output) * (1 - output)\n",
    "        #print('output error term = ',output_error_term)\n",
    "        ## propagate errors to hidden layer\n",
    "        \n",
    "        # TODO: Calculate the hidden layer's contribution to the error\n",
    "        hidden_error = weights_hidden_output\n",
    "        #print('hidden layer contibution = ',hidden_error)\n",
    "        # TODO: Calculate the error term for the hidden layer\n",
    "        hidden_error_term = weights_hidden_output * output_error_term * (hidden_output) * (1 - hidden_output)\n",
    "        #print('hidden error term = ',hidden_error_term)\n",
    "        # TODO: Update the change in weights\n",
    "        #print(np.array((learnrate * output_error_term * hidden_output)[0,:]))\n",
    "        del_w_hidden_output += np.array((learnrate * output_error_term * hidden_output)[0,:])\n",
    "        #print('del_w_hidden_output',del_w_hidden_output)\n",
    "        #print('hidden error term = ',hidden_error_term.shape)\n",
    "        #print('x = ',x.shape)\n",
    "        del_w_input_hidden += np.array((learnrate * (hidden_error_term*x[:,None]))[0,:])\n",
    "\n",
    "    # TODO: Update weights  (don't forget to division by n_records or number of samples)\n",
    "    weights_input_hidden += del_w_input_hidden/n_records\n",
    "    weights_hidden_output +=del_w_hidden_output/n_records\n",
    "\n",
    "    # Printing out the mean square error on the training set\n",
    "    if e % (epochs / 10) == 0:\n",
    "        hidden_output = sigmoid(np.dot(x, weights_input_hidden))\n",
    "        out = sigmoid(np.dot(hidden_output,\n",
    "                             weights_hidden_output))\n",
    "        loss = np.mean((out - targets) ** 2)\n",
    "\n",
    "        if last_loss and last_loss < loss:\n",
    "            print(\"Train loss: \", loss, \"  WARNING - Loss Increasing\")\n",
    "        else:\n",
    "            print(\"Train loss: \", loss)\n",
    "        last_loss = loss\n",
    "\n",
    "# Calculate accuracy on test data\n",
    "hidden = sigmoid(np.dot(features_test, weights_input_hidden))\n",
    "out = sigmoid(np.dot(hidden, weights_hidden_output))\n",
    "predictions = out > 0.5\n",
    "accuracy = np.mean(predictions == targets_test)\n",
    "print(\"Prediction accuracy: {:.3f}\".format(accuracy))\n"
   ]
  },
  {
   "cell_type": "code",
   "execution_count": null,
   "metadata": {},
   "outputs": [],
   "source": []
  }
 ],
 "metadata": {
  "kernelspec": {
   "display_name": "Python 3",
   "language": "python",
   "name": "python3"
  },
  "language_info": {
   "codemirror_mode": {
    "name": "ipython",
    "version": 3
   },
   "file_extension": ".py",
   "mimetype": "text/x-python",
   "name": "python",
   "nbconvert_exporter": "python",
   "pygments_lexer": "ipython3",
   "version": "3.7.9"
  }
 },
 "nbformat": 4,
 "nbformat_minor": 4
}
