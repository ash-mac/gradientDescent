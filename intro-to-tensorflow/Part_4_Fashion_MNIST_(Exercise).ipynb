{
 "cells": [
  {
   "cell_type": "markdown",
   "metadata": {
    "colab_type": "text",
    "id": "Lg2hLK7hlWdb"
   },
   "source": [
    "# Classifying Fashion-MNIST\n",
    "\n",
    "Now it's your turn to build and train a neural network. You'll be using the [Fashion-MNIST dataset](https://github.com/zalandoresearch/fashion-mnist), a drop-in replacement for the MNIST dataset. MNIST is actually quite trivial with neural networks where you can easily achieve better than 97% accuracy. Fashion-MNIST is a set of 28x28 greyscale images of clothes. It's more complex than MNIST, so it's a better representation of the actual performance of your network, and a better representation of datasets you'll use in the real world.\n",
    "\n",
    "<img src='assets/fashion-mnist-sprite.png' width=500px>\n",
    "\n",
    "In this notebook, you'll build your own neural network. For the most part, you could just copy and paste the code from Part 3, but you wouldn't be learning. It's important for you to write the code yourself and get it to work. Feel free to consult the previous notebooks though as you work through this.\n",
    "\n",
    "First off, let's import our resources and download the Fashion-MNIST dataset from `tensorflow_datasets`. "
   ]
  },
  {
   "cell_type": "markdown",
   "metadata": {
    "colab_type": "text",
    "id": "EMflYTIOtOPf"
   },
   "source": [
    "## Import Resources"
   ]
  },
  {
   "cell_type": "code",
   "execution_count": 1,
   "metadata": {},
   "outputs": [],
   "source": [
    "import warnings\n",
    "warnings.filterwarnings('ignore')"
   ]
  },
  {
   "cell_type": "code",
   "execution_count": 2,
   "metadata": {
    "colab": {},
    "colab_type": "code",
    "id": "U0n2QWj1p2fG"
   },
   "outputs": [],
   "source": [
    "%matplotlib inline\n",
    "%config InlineBackend.figure_format = 'retina'\n",
    "\n",
    "import numpy as np\n",
    "import matplotlib.pyplot as plt\n",
    "\n",
    "import tensorflow as tf\n",
    "import tensorflow_datasets as tfds\n",
    "tfds.disable_progress_bar()"
   ]
  },
  {
   "cell_type": "code",
   "execution_count": 3,
   "metadata": {},
   "outputs": [],
   "source": [
    "import logging\n",
    "logger = tf.get_logger()\n",
    "logger.setLevel(logging.ERROR)"
   ]
  },
  {
   "cell_type": "code",
   "execution_count": 4,
   "metadata": {
    "colab": {
     "base_uri": "https://localhost:8080/",
     "height": 85
    },
    "colab_type": "code",
    "id": "FwP1_Qw-cCsY",
    "outputId": "5cc63000-690c-4063-d0c4-2f242819ccac"
   },
   "outputs": [
    {
     "name": "stdout",
     "output_type": "stream",
     "text": [
      "Using:\n",
      "\t• TensorFlow version: 2.4.1\n",
      "\t• tf.keras version: 2.4.0\n",
      "\t• GPU device not found. Running on CPU\n"
     ]
    }
   ],
   "source": [
    "print('Using:')\n",
    "print('\\t\\u2022 TensorFlow version:', tf.__version__)\n",
    "print('\\t\\u2022 tf.keras version:', tf.keras.__version__)\n",
    "print('\\t\\u2022 Running on GPU' if tf.test.is_gpu_available() else '\\t\\u2022 GPU device not found. Running on CPU')"
   ]
  },
  {
   "cell_type": "markdown",
   "metadata": {
    "colab_type": "text",
    "id": "Vr2SOjl8txrZ"
   },
   "source": [
    "## Load the Dataset\n",
    "\n",
    "We are now going to load the Fashion-MNIST dataset using `tensorflow_datasets` as we've done before. In this case, however, we are going to omit the `split` argument.  This means that `tensorflow_datasets` will use the default value for `split` which is `split=None`. When `split=None`, `tensorflow_datasets` returns a **dictionary** with all the splits available for the dataset you are loading. However, if the split is given explicitly, such as `split='train'`, then `tensorflow_datasets` returns a `tf.data.Dataset` object.\n",
    "\n",
    "In our case, we are going to load the `fashion_mnist` dataset. If we look at the [documentation](https://www.tensorflow.org/datasets/catalog/fashion_mnist#statistics) we will see that this particular dataset has 2 splits, namely a `train` and a `test` slipt. We also see that the `train` split has 60,000 examples, and that the `test` split has 10,000 examples. \n",
    "\n",
    "Now, let's load the `fashion_mnist` dataset and inspect the returned values."
   ]
  },
  {
   "cell_type": "code",
   "execution_count": 5,
   "metadata": {
    "colab": {
     "base_uri": "https://localhost:8080/",
     "height": 54
    },
    "colab_type": "code",
    "id": "1kn4Op7dXCnk",
    "outputId": "cd83ee11-b25e-4df2-dbf7-2026fd2049da"
   },
   "outputs": [],
   "source": [
    "dataset, dataset_info = tfds.load('fashion_mnist', as_supervised = True, with_info = True)"
   ]
  },
  {
   "cell_type": "code",
   "execution_count": 6,
   "metadata": {
    "colab": {
     "base_uri": "https://localhost:8080/",
     "height": 68
    },
    "colab_type": "code",
    "id": "2_vT6HUUXg05",
    "outputId": "fcdf4d7e-d14b-491b-b6c1-235823d67875"
   },
   "outputs": [
    {
     "name": "stdout",
     "output_type": "stream",
     "text": [
      "dataset has type: <class 'dict'>\n",
      "\n",
      "The keys of dataset are: ['train', 'test']\n"
     ]
    }
   ],
   "source": [
    "# Check that dataset is a dictionary\n",
    "print('dataset has type:', type(dataset))\n",
    "\n",
    "# Print the keys of the dataset dictionary\n",
    "print('\\nThe keys of dataset are:', list(dataset.keys()))"
   ]
  },
  {
   "cell_type": "markdown",
   "metadata": {
    "colab_type": "text",
    "id": "6S4f2J9jbpak"
   },
   "source": [
    "In the cell below, we are going to save the training data and the test data into different variables."
   ]
  },
  {
   "cell_type": "code",
   "execution_count": 7,
   "metadata": {
    "colab": {},
    "colab_type": "code",
    "id": "kxo7PHJys18t"
   },
   "outputs": [],
   "source": [
    "training_set, test_set = dataset['train'], dataset['test']"
   ]
  },
  {
   "cell_type": "markdown",
   "metadata": {
    "colab_type": "text",
    "id": "zzZciG_KcHbI"
   },
   "source": [
    "Now, let's take a look at the `dataset_info`"
   ]
  },
  {
   "cell_type": "code",
   "execution_count": 8,
   "metadata": {
    "colab": {
     "base_uri": "https://localhost:8080/",
     "height": 598
    },
    "colab_type": "code",
    "id": "7jFE3vbebU-A",
    "outputId": "faaf389e-4d0b-4d51-f565-34aba4ae5cfd"
   },
   "outputs": [
    {
     "data": {
      "text/plain": [
       "tfds.core.DatasetInfo(\n",
       "    name='fashion_mnist',\n",
       "    full_name='fashion_mnist/3.0.1',\n",
       "    description=\"\"\"\n",
       "    Fashion-MNIST is a dataset of Zalando's article images consisting of a training set of 60,000 examples and a test set of 10,000 examples. Each example is a 28x28 grayscale image, associated with a label from 10 classes.\n",
       "    \"\"\",\n",
       "    homepage='https://github.com/zalandoresearch/fashion-mnist',\n",
       "    data_path='C:\\\\Users\\\\Ashish Sharma\\\\tensorflow_datasets\\\\fashion_mnist\\\\3.0.1',\n",
       "    download_size=29.45 MiB,\n",
       "    dataset_size=36.42 MiB,\n",
       "    features=FeaturesDict({\n",
       "        'image': Image(shape=(28, 28, 1), dtype=tf.uint8),\n",
       "        'label': ClassLabel(shape=(), dtype=tf.int64, num_classes=10),\n",
       "    }),\n",
       "    supervised_keys=('image', 'label'),\n",
       "    splits={\n",
       "        'test': <SplitInfo num_examples=10000, num_shards=1>,\n",
       "        'train': <SplitInfo num_examples=60000, num_shards=1>,\n",
       "    },\n",
       "    citation=\"\"\"@article{DBLP:journals/corr/abs-1708-07747,\n",
       "      author    = {Han Xiao and\n",
       "                   Kashif Rasul and\n",
       "                   Roland Vollgraf},\n",
       "      title     = {Fashion-MNIST: a Novel Image Dataset for Benchmarking Machine Learning\n",
       "                   Algorithms},\n",
       "      journal   = {CoRR},\n",
       "      volume    = {abs/1708.07747},\n",
       "      year      = {2017},\n",
       "      url       = {http://arxiv.org/abs/1708.07747},\n",
       "      archivePrefix = {arXiv},\n",
       "      eprint    = {1708.07747},\n",
       "      timestamp = {Mon, 13 Aug 2018 16:47:27 +0200},\n",
       "      biburl    = {https://dblp.org/rec/bib/journals/corr/abs-1708-07747},\n",
       "      bibsource = {dblp computer science bibliography, https://dblp.org}\n",
       "    }\"\"\",\n",
       ")"
      ]
     },
     "execution_count": 8,
     "metadata": {},
     "output_type": "execute_result"
    }
   ],
   "source": [
    "# Display the dataset_info\n",
    "dataset_info"
   ]
  },
  {
   "cell_type": "markdown",
   "metadata": {
    "colab_type": "text",
    "id": "0_If36cti685"
   },
   "source": [
    "We can access the information in `dataset_info` very easily. As we can see, the `features` and `splits` info are contained in dictionaries. We can access the information we want by accessing the particular key and value in these dictionaries. We start by looking at the values of particular keys in these dictionaries:"
   ]
  },
  {
   "cell_type": "code",
   "execution_count": 9,
   "metadata": {},
   "outputs": [
    {
     "data": {
      "text/plain": [
       "tensorflow_datasets.core.features.features_dict.FeaturesDict"
      ]
     },
     "execution_count": 9,
     "metadata": {},
     "output_type": "execute_result"
    }
   ],
   "source": [
    "type(dataset_info.features)"
   ]
  },
  {
   "cell_type": "code",
   "execution_count": 10,
   "metadata": {
    "colab": {
     "base_uri": "https://localhost:8080/",
     "height": 34
    },
    "colab_type": "code",
    "id": "6KtD7j5HgTkn",
    "outputId": "926d32e3-644b-45ff-c86e-119663fcabc6"
   },
   "outputs": [
    {
     "data": {
      "text/plain": [
       "Image(shape=(28, 28, 1), dtype=tf.uint8)"
      ]
     },
     "execution_count": 10,
     "metadata": {},
     "output_type": "execute_result"
    }
   ],
   "source": [
    "dataset_info.features['image']"
   ]
  },
  {
   "cell_type": "code",
   "execution_count": 11,
   "metadata": {
    "colab": {
     "base_uri": "https://localhost:8080/",
     "height": 34
    },
    "colab_type": "code",
    "id": "l_QXhcTOiQ1a",
    "outputId": "53da5e37-9e6e-45ee-c395-81166c3e6e5c"
   },
   "outputs": [
    {
     "data": {
      "text/plain": [
       "ClassLabel(shape=(), dtype=tf.int64, num_classes=10)"
      ]
     },
     "execution_count": 11,
     "metadata": {},
     "output_type": "execute_result"
    }
   ],
   "source": [
    "dataset_info.features['label']"
   ]
  },
  {
   "cell_type": "code",
   "execution_count": 12,
   "metadata": {
    "colab": {
     "base_uri": "https://localhost:8080/",
     "height": 34
    },
    "colab_type": "code",
    "id": "gGn6yzTxgKwj",
    "outputId": "442c79f6-a5c6-4d4c-8b84-7f2d93778d81"
   },
   "outputs": [
    {
     "data": {
      "text/plain": [
       "<SplitInfo num_examples=60000, num_shards=1>"
      ]
     },
     "execution_count": 12,
     "metadata": {},
     "output_type": "execute_result"
    }
   ],
   "source": [
    "dataset_info.splits['train']"
   ]
  },
  {
   "cell_type": "markdown",
   "metadata": {
    "colab_type": "text",
    "id": "MFwhpPOijumG"
   },
   "source": [
    "We can now use dot notation to access the information we want. Below are some examples. "
   ]
  },
  {
   "cell_type": "code",
   "execution_count": 13,
   "metadata": {
    "colab": {
     "base_uri": "https://localhost:8080/",
     "height": 102
    },
    "colab_type": "code",
    "id": "m9_OYPHsbbcl",
    "outputId": "9b7e79ce-1932-443c-85b9-1dca8b55eade"
   },
   "outputs": [
    {
     "name": "stdout",
     "output_type": "stream",
     "text": [
      "There are 10 classes in our dataset\n",
      "The images in our dataset have shape: (28, 28, 1)\n",
      "\n",
      "There are 10,000 images in the test set\n",
      "There are 60,000 images in the training set\n"
     ]
    }
   ],
   "source": [
    "shape_images = dataset_info.features['image'].shape\n",
    "num_classes = dataset_info.features['label'].num_classes\n",
    "\n",
    "num_training_examples  = dataset_info.splits['train'].num_examples\n",
    "num_test_examples = dataset_info.splits['test'].num_examples\n",
    "\n",
    "print('There are {:,} classes in our dataset'.format(num_classes))\n",
    "print('The images in our dataset have shape:', shape_images)\n",
    "\n",
    "print('\\nThere are {:,} images in the test set'.format(num_test_examples))\n",
    "print('There are {:,} images in the training set'.format(num_training_examples))"
   ]
  },
  {
   "cell_type": "markdown",
   "metadata": {},
   "source": [
    "## Sharding\n",
    "[What is Sharding,Why is it required](https://medium.com/@jeeyoungk/how-sharding-works-b4dec46b3f6)"
   ]
  },
  {
   "cell_type": "markdown",
   "metadata": {
    "colab_type": "text",
    "id": "nfMgIb3PvWXo"
   },
   "source": [
    "## Explore the Dataset\n",
    "\n",
    "The images in this dataset are 28 $\\times$ 28 arrays, with pixel values in the range `[0, 255]`. The *labels* are an array of integers, in the range `[0, 9]`. These correspond to the *class* of clothing the image represents:\n",
    "\n",
    "<table>\n",
    "  <tr>\n",
    "    <th>Label</th>\n",
    "    <th>Class</th> \n",
    "  </tr>\n",
    "  <tr>\n",
    "    <td>0</td>\n",
    "    <td>T-shirt/top</td> \n",
    "  </tr>\n",
    "  <tr>\n",
    "    <td>1</td>\n",
    "    <td>Trouser</td> \n",
    "  </tr>\n",
    "    <tr>\n",
    "    <td>2</td>\n",
    "    <td>Pullover</td> \n",
    "  </tr>\n",
    "    <tr>\n",
    "    <td>3</td>\n",
    "    <td>Dress</td> \n",
    "  </tr>\n",
    "    <tr>\n",
    "    <td>4</td>\n",
    "    <td>Coat</td> \n",
    "  </tr>\n",
    "    <tr>\n",
    "    <td>5</td>\n",
    "    <td>Sandal</td> \n",
    "  </tr>\n",
    "    <tr>\n",
    "    <td>6</td>\n",
    "    <td>Shirt</td> \n",
    "  </tr>\n",
    "    <tr>\n",
    "    <td>7</td>\n",
    "    <td>Sneaker</td> \n",
    "  </tr>\n",
    "    <tr>\n",
    "    <td>8</td>\n",
    "    <td>Bag</td> \n",
    "  </tr>\n",
    "    <tr>\n",
    "    <td>9</td>\n",
    "    <td>Ankle boot</td> \n",
    "  </tr>\n",
    "</table>\n",
    "\n",
    "Each image is mapped to a single label. Since the *class names* are not included with the dataset, we create them here to use later when plotting the images:"
   ]
  },
  {
   "cell_type": "code",
   "execution_count": 14,
   "metadata": {
    "colab": {},
    "colab_type": "code",
    "id": "odzN3aJjusED"
   },
   "outputs": [],
   "source": [
    "class_names = ['T-shirt/top', 'Trouser', 'Pullover', 'Dress', 'Coat', \n",
    "               'Sandal',      'Shirt',   'Sneaker',  'Bag',   'Ankle boot']"
   ]
  },
  {
   "cell_type": "code",
   "execution_count": 15,
   "metadata": {
    "colab": {
     "base_uri": "https://localhost:8080/",
     "height": 68
    },
    "colab_type": "code",
    "id": "RoY1HeJJyces",
    "outputId": "c6d817e3-4150-4f8f-8b28-298b0936e794"
   },
   "outputs": [
    {
     "name": "stdout",
     "output_type": "stream",
     "text": [
      "The images in the training set have:\n",
      "• dtype: <dtype: 'uint8'> \n",
      "• shape: (28, 28, 1)\n"
     ]
    }
   ],
   "source": [
    "for image, label in training_set.take(1):\n",
    "    print('The images in the training set have:\\n\\u2022 dtype:', image.dtype, '\\n\\u2022 shape:', image.shape)"
   ]
  },
  {
   "cell_type": "code",
   "execution_count": 16,
   "metadata": {
    "colab": {
     "base_uri": "https://localhost:8080/",
     "height": 301
    },
    "colab_type": "code",
    "id": "CInprnnJ1_gk",
    "outputId": "aa2945e1-9f33-4d2e-8191-a47dd7dbb29f"
   },
   "outputs": [
    {
     "data": {
      "image/png": "[encoded data removed]",
      "text/plain": [
       "<Figure size 432x288 with 2 Axes>"
      ]
     },
     "metadata": {
      "image/png": {
       "height": 248,
       "width": 305
      },
      "needs_background": "light"
     },
     "output_type": "display_data"
    },
    {
     "name": "stdout",
     "output_type": "stream",
     "text": [
      "The label of this image is: 2\n",
      "The class name of this image is: Pullover\n"
     ]
    }
   ],
   "source": [
    "for image, label in training_set.take(1):\n",
    "    image = image.numpy().squeeze()\n",
    "    label = label.numpy()\n",
    "\n",
    "plt.imshow(image, cmap= plt.cm.binary)\n",
    "plt.colorbar()\n",
    "plt.show()\n",
    "\n",
    "print('The label of this image is:', label)\n",
    "print('The class name of this image is:', class_names[label])"
   ]
  },
  {
   "cell_type": "markdown",
   "metadata": {
    "colab_type": "text",
    "id": "Hb-lmuTM35C9"
   },
   "source": [
    "## Create Pipeline"
   ]
  },
  {
   "cell_type": "code",
   "execution_count": 17,
   "metadata": {
    "colab": {},
    "colab_type": "code",
    "id": "3gq-_mXl3ZFG"
   },
   "outputs": [],
   "source": [
    "def normalize(image, label):\n",
    "    image = tf.cast(image, tf.float32)\n",
    "    image /= 255\n",
    "    return image, label\n",
    "\n",
    "batch_size = 64\n",
    "\n",
    "training_batches = training_set.cache().shuffle(num_training_examples//4).batch(batch_size).map(normalize).prefetch(1)\n",
    "testing_batches = test_set.cache().batch(batch_size).map(normalize).prefetch(1)"
   ]
  },
  {
   "cell_type": "markdown",
   "metadata": {
    "colab_type": "text",
    "id": "LviX4-ii8js7"
   },
   "source": [
    "## Build the Model\n",
    "\n",
    "> **Exercise:** Here you should define your own neural network. Feel free to create a model with as many layers and neurons as you like. You should keep in mind that as with MNIST, each image is 28 $\\times$ 28 which is a total of 784 pixels, and there are 10 classes. Your model should include at least one hidden layer. We suggest you use ReLU activation functions for the hidden layers and a softmax activation function for the output layer."
   ]
  },
  {
   "cell_type": "code",
   "execution_count": 18,
   "metadata": {
    "colab": {},
    "colab_type": "code",
    "id": "OYzFZ3jQ8azd"
   },
   "outputs": [],
   "source": [
    "## Solution\n",
    "model = tf.keras.Sequential([\n",
    "    tf.keras.layers.Flatten(input_shape = (28,28,1)),\n",
    "    tf.keras.layers.Dense(196,activation = 'relu'),\n",
    "    tf.keras.layers.Dense(98,activation = 'relu'),\n",
    "    tf.keras.layers.Dense(49,activation = 'relu'),\n",
    "    tf.keras.layers.Dense(10,activation = 'softmax'),\n",
    "])"
   ]
  },
  {
   "cell_type": "markdown",
   "metadata": {
    "colab_type": "text",
    "id": "CYhwsFzA-Aah"
   },
   "source": [
    "## Train the Model\n",
    "\n",
    "> **Exercise:** Compile the model you created above using an `adam` optimizer, a `sparse_categorical_crossentropy` loss function, and the `accuracy` metric. Then train the model for 5 epochs. You should be able to get the training loss below 0.4."
   ]
  },
  {
   "cell_type": "code",
   "execution_count": 19,
   "metadata": {
    "colab": {
     "base_uri": "https://localhost:8080/",
     "height": 187
    },
    "colab_type": "code",
    "id": "Cyy9SqTU91IS",
    "outputId": "e8823c12-e7c0-4397-8126-2cb29e8be66a"
   },
   "outputs": [
    {
     "name": "stdout",
     "output_type": "stream",
     "text": [
      "2/2 [==============================] - 0s 8ms/step - loss: 2.3587 - accuracy: 0.0938\n",
      "Loss before training:2.3484\n",
      "Accuracy before training:9.3750%\n",
      "\n",
      "\n",
      "\n",
      "Epoch 1/5\n",
      "938/938 [==============================] - 7s 7ms/step - loss: 0.4958 - accuracy: 0.8235\n",
      "Epoch 2/5\n",
      "938/938 [==============================] - 4s 4ms/step - loss: 0.3669 - accuracy: 0.8668\n",
      "Epoch 3/5\n",
      "938/938 [==============================] - 4s 4ms/step - loss: 0.3300 - accuracy: 0.8793\n",
      "Epoch 4/5\n",
      "938/938 [==============================] - 4s 4ms/step - loss: 0.3086 - accuracy: 0.8867\n",
      "Epoch 5/5\n",
      "938/938 [==============================] - 8s 9ms/step - loss: 0.2894 - accuracy: 0.8916: 0s - loss: 0.2896 - \n",
      "\n",
      "\n",
      "Printing Loss and Accuracy After Training on Training Set\n",
      "\n",
      "\n",
      "2/2 [==============================] - 0s 8ms/step - loss: 0.4606 - accuracy: 0.8438\n",
      "Loss on training set after training:0.4606\n",
      "Accuracy on training set after training:84.3750%\n"
     ]
    }
   ],
   "source": [
    "## Solution\n",
    "model.compile(optimizer='adam',loss='sparse_categorical_crossentropy',metrics=['accuracy'])\n",
    "for image_batch,label_batch in training_batches.take(1):\n",
    "    loss_before,accuracy_before = model.evaluate(image_batch,label_batch)\n",
    "print('Loss before training:{:,.4f}'.format(loss_before))\n",
    "print('Accuracy before training:{:,.4%}'.format(accuracy_before))\n",
    "print(\"\\n\\n\")\n",
    "\n",
    "########################################\n",
    "\n",
    "history = model.fit(training_batches,epochs = 5)\n",
    "\n",
    "########################################\n",
    "\n",
    "print(\"\\n\")\n",
    "print(\"Printing Loss and Accuracy After Training on Training Set\")\n",
    "print(\"\\n\")\n",
    "for image_batch, label_batch in training_batches.take(1):\n",
    "    loss_after,accuracy_after = model.evaluate(image_batch,label_batch)\n",
    "print(\"Loss on training set after training:{:,.4f}\".format(loss_after))\n",
    "print(\"Accuracy on training set after training:{:,.4%}\".format(accuracy_after))"
   ]
  },
  {
   "cell_type": "markdown",
   "metadata": {
    "colab_type": "text",
    "id": "REJbwplUBoRT"
   },
   "source": [
    "## Evaluate Loss and Accuracy on the Test Set\n",
    "\n",
    "Now let's see how the model performs on the test set. This time, we will use all the examples in our test set to assess the loss and accuracy of our model. Remember, the images in the test are images the model has never seen before."
   ]
  },
  {
   "cell_type": "code",
   "execution_count": 20,
   "metadata": {
    "colab": {
     "base_uri": "https://localhost:8080/",
     "height": 85
    },
    "colab_type": "code",
    "id": "q76aDGGl_xp4",
    "outputId": "d1ee69fc-874c-4985-cbd3-5bae323f64fb"
   },
   "outputs": [
    {
     "name": "stdout",
     "output_type": "stream",
     "text": [
      "157/157 [==============================] - 2s 7ms/step - loss: 0.3629 - accuracy: 0.8727\n",
      "\n",
      "Loss on the TEST Set: 0.363\n",
      "Accuracy on the TEST Set: 87.270%\n"
     ]
    }
   ],
   "source": [
    "loss, accuracy = model.evaluate(testing_batches)\n",
    "\n",
    "print('\\nLoss on the TEST Set: {:,.3f}'.format(loss))\n",
    "print('Accuracy on the TEST Set: {:.3%}'.format(accuracy))"
   ]
  },
  {
   "cell_type": "markdown",
   "metadata": {
    "colab_type": "text",
    "id": "PnpZWDQp2Zaq"
   },
   "source": [
    "## Check Predictions"
   ]
  },
  {
   "cell_type": "code",
   "execution_count": 21,
   "metadata": {
    "colab": {
     "base_uri": "https://localhost:8080/",
     "height": 225
    },
    "colab_type": "code",
    "id": "kqUzc4pYAe7Z",
    "outputId": "faa09287-401f-478d-85c1-6eb59eb748cd"
   },
   "outputs": [
    {
     "data": {
      "image/png": "[encoded data removed]",
      "text/plain": [
       "<Figure size 432x648 with 2 Axes>"
      ]
     },
     "metadata": {
      "image/png": {
       "height": 196,
       "width": 424
      },
      "needs_background": "light"
     },
     "output_type": "display_data"
    }
   ],
   "source": [
    "for image_batch, label_batch in testing_batches.take(1):\n",
    "    ps = model.predict(image_batch)\n",
    "    first_image = image_batch.numpy().squeeze()[0]\n",
    "    first_label = label_batch.numpy()[0]\n",
    "\n",
    "fig, (ax1, ax2) = plt.subplots(figsize=(6,9), ncols=2)\n",
    "ax1.imshow(first_image, cmap = plt.cm.binary)\n",
    "ax1.axis('off')\n",
    "ax1.set_title(class_names[first_label])\n",
    "ax2.barh(np.arange(10), ps[0])\n",
    "ax2.set_aspect(0.1)\n",
    "ax2.set_yticks(np.arange(10))\n",
    "ax2.set_yticklabels(class_names, size='small');\n",
    "ax2.set_title('Class Probability')\n",
    "ax2.set_xlim(0, 1.1)\n",
    "for index, value in enumerate(ps[0]):\n",
    "    plt.text(value, index, str(value))\n",
    "plt.tight_layout()"
   ]
  },
  {
   "cell_type": "code",
   "execution_count": null,
   "metadata": {
    "colab": {},
    "colab_type": "code",
    "id": "gs6wGo79So1E"
   },
   "outputs": [],
   "source": []
  },
  {
   "cell_type": "code",
   "execution_count": null,
   "metadata": {},
   "outputs": [],
   "source": []
  }
 ],
 "metadata": {
  "accelerator": "GPU",
  "colab": {
   "collapsed_sections": [],
   "name": "Part 4 - Fashion-MNIST (Solution).ipynb",
   "provenance": []
  },
  "kernelspec": {
   "display_name": "Python 3",
   "language": "python",
   "name": "python3"
  },
  "language_info": {
   "codemirror_mode": {
    "name": "ipython",
    "version": 3
   },
   "file_extension": ".py",
   "mimetype": "text/x-python",
   "name": "python",
   "nbconvert_exporter": "python",
   "pygments_lexer": "ipython3",
   "version": "3.7.9"
  }
 },
 "nbformat": 4,
 "nbformat_minor": 1
}
